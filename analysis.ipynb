{
 "cells": [
  {
   "cell_type": "markdown",
   "metadata": {},
   "source": [
    "# Imports"
   ]
  },
  {
   "cell_type": "code",
   "execution_count": null,
   "metadata": {},
   "outputs": [],
   "source": [
    "import pandas as pd\n",
    "import numpy as np\n",
    "import matplotlib.pyplot as plt"
   ]
  },
  {
   "cell_type": "code",
   "execution_count": null,
   "metadata": {},
   "outputs": [],
   "source": [
    "DMSO_group = \"1\"\n",
    "CRIZ_group = \"3\"\n",
    "CRIZ_E_group = \"5\""
   ]
  },
  {
   "cell_type": "code",
   "execution_count": null,
   "metadata": {},
   "outputs": [],
   "source": [
    "csv_names = [\"centroidCol.csv\", \"centroidRow.csv\", \"customMatrix.csv\", \"deathMatrix.csv\", \"divMatrix.csv\", \"green.csv\", \"nuclear.csv\", \"red.csv\"]\n",
    "DMSO_CSV = [DMSO_group + \"_\" + csv for csv in csv_names]\n",
    "CRIZ_CSV = [CRIZ_group + \"_\" + csv for csv in csv_names]\n",
    "CRIZ_E_CSV = [CRIZ_E_group + \"_\" + csv for csv in csv_names]"
   ]
  },
  {
   "cell_type": "code",
   "execution_count": null,
   "metadata": {},
   "outputs": [],
   "source": [
    "DMSO_DFS = [pd.read_csv(csv, names=[i for i in range(1,54)]) for csv in DMSO_CSV]"
   ]
  },
  {
   "cell_type": "code",
   "execution_count": null,
   "metadata": {},
   "outputs": [],
   "source": [
    "CRIZ_E_DFS = [pd.read_csv(csv, names=[i for i in range(1,54)]) for csv in CRIZ_E_CSV]"
   ]
  },
  {
   "cell_type": "code",
   "execution_count": null,
   "metadata": {},
   "outputs": [],
   "source": [
    "CRIZ_DFS = [pd.read_csv(csv, names=[i for i in range(1,54)]) for csv in CRIZ_CSV]"
   ]
  },
  {
   "cell_type": "markdown",
   "metadata": {},
   "source": [
    "# DMSO Aggregation"
   ]
  },
  {
   "cell_type": "code",
   "execution_count": null,
   "metadata": {},
   "outputs": [],
   "source": [
    "DMSO_master_df = pd.DataFrame(columns=[\"x_pos\", \"y_pos\", \"condensation_frame\", \"division_frame\", \"death_frame\", \"green\", \"red\", \"nuclear\"])\n",
    "n = 0"
   ]
  },
  {
   "cell_type": "code",
   "execution_count": null,
   "metadata": {},
   "outputs": [],
   "source": [
    "for row in DMSO_DFS[0].iterrows():\n",
    "    DMSO_master_df = DMSO_master_df.append({\"x_pos\": row[1].array}, ignore_index=True)\n",
    "    n += 1"
   ]
  },
  {
   "cell_type": "code",
   "execution_count": null,
   "metadata": {},
   "outputs": [],
   "source": [
    "for i in range(n):\n",
    "    DMSO_master_df.at[i, 'y_pos'] = DMSO_DFS[1].iloc[i].array"
   ]
  },
  {
   "cell_type": "code",
   "execution_count": null,
   "metadata": {},
   "outputs": [],
   "source": [
    "for i in range(n):\n",
    "    DMSO_master_df.at[i, 'condensation_frame'] = DMSO_DFS[2].iloc[i][DMSO_DFS[2].iloc[i] == 1].index.array[0] if len(DMSO_DFS[2].iloc[i][DMSO_DFS[2].iloc[i] == 1].index.array) == 1 else np.nan"
   ]
  },
  {
   "cell_type": "code",
   "execution_count": null,
   "metadata": {},
   "outputs": [],
   "source": [
    "for i in range(n):\n",
    "    DMSO_master_df.at[i, 'death_frame'] = DMSO_DFS[3].iloc[i][DMSO_DFS[3].iloc[i] == 1].index.array[0] if len(DMSO_DFS[3].iloc[i][DMSO_DFS[3].iloc[i] == 1].index.array) == 1 else np.nan"
   ]
  },
  {
   "cell_type": "code",
   "execution_count": null,
   "metadata": {},
   "outputs": [],
   "source": [
    "for i in range(n):\n",
    "    DMSO_master_df.at[i, 'division_frame'] = DMSO_DFS[4].iloc[i][DMSO_DFS[4].iloc[i] == 1].index.array[0] if len(DMSO_DFS[4].iloc[i][DMSO_DFS[4].iloc[i] == 1].index.array) == 1 else np.nan"
   ]
  },
  {
   "cell_type": "code",
   "execution_count": null,
   "metadata": {},
   "outputs": [],
   "source": [
    "for i in range(n):\n",
    "    DMSO_master_df.at[i, 'green'] = DMSO_DFS[5].iloc[i].array"
   ]
  },
  {
   "cell_type": "code",
   "execution_count": null,
   "metadata": {},
   "outputs": [],
   "source": [
    "for i in range(n):\n",
    "    DMSO_master_df.at[i, 'nuclear'] = DMSO_DFS[6].iloc[i].array"
   ]
  },
  {
   "cell_type": "code",
   "execution_count": null,
   "metadata": {},
   "outputs": [],
   "source": [
    "for i in range(n):\n",
    "    DMSO_master_df.at[i, 'red'] = DMSO_DFS[7].iloc[i].array"
   ]
  },
  {
   "cell_type": "markdown",
   "metadata": {},
   "source": [
    "# Criz + EGF Aggregation"
   ]
  },
  {
   "cell_type": "code",
   "execution_count": null,
   "metadata": {},
   "outputs": [],
   "source": [
    "CRIZ_E_master_df = pd.DataFrame(columns=[\"x_pos\", \"y_pos\", \"condensation_frame\", \"division_frame\", \"death_frame\", \"green\", \"red\", \"nuclear\"])\n",
    "n = 0"
   ]
  },
  {
   "cell_type": "code",
   "execution_count": null,
   "metadata": {},
   "outputs": [],
   "source": [
    "for row in CRIZ_E_DFS[0].iterrows():\n",
    "    CRIZ_E_master_df = CRIZ_E_master_df.append({\"x_pos\": row[1].array}, ignore_index=True)\n",
    "    n += 1"
   ]
  },
  {
   "cell_type": "code",
   "execution_count": null,
   "metadata": {},
   "outputs": [],
   "source": [
    "for i in range(n):\n",
    "    CRIZ_E_master_df.at[i, 'y_pos'] = CRIZ_E_DFS[1].iloc[i].array"
   ]
  },
  {
   "cell_type": "code",
   "execution_count": null,
   "metadata": {},
   "outputs": [],
   "source": [
    "for i in range(n):\n",
    "    CRIZ_E_master_df.at[i, 'condensation_frame'] = CRIZ_E_DFS[2].iloc[i][CRIZ_E_DFS[2].iloc[i] == 1].index.array[0] if len(CRIZ_E_DFS[2].iloc[i][CRIZ_E_DFS[2].iloc[i] == 1].index.array) == 1 else np.nan"
   ]
  },
  {
   "cell_type": "code",
   "execution_count": null,
   "metadata": {},
   "outputs": [],
   "source": [
    "for i in range(n):\n",
    "    CRIZ_E_master_df.at[i, 'death_frame'] = CRIZ_E_DFS[3].iloc[i][CRIZ_E_DFS[3].iloc[i] == 1].index.array[0] if len(CRIZ_E_DFS[3].iloc[i][CRIZ_E_DFS[3].iloc[i] == 1].index.array) == 1 else np.nan"
   ]
  },
  {
   "cell_type": "code",
   "execution_count": null,
   "metadata": {},
   "outputs": [],
   "source": [
    "for i in range(n):\n",
    "    CRIZ_E_master_df.at[i, 'division_frame'] = CRIZ_E_DFS[4].iloc[i][CRIZ_E_DFS[4].iloc[i] == 1].index.array[0] if len(CRIZ_E_DFS[4].iloc[i][CRIZ_E_DFS[4].iloc[i] == 1].index.array) == 1 else np.nan"
   ]
  },
  {
   "cell_type": "code",
   "execution_count": null,
   "metadata": {},
   "outputs": [],
   "source": [
    "for i in range(n):\n",
    "    CRIZ_E_master_df.at[i, 'green'] = CRIZ_E_DFS[5].iloc[i].array"
   ]
  },
  {
   "cell_type": "code",
   "execution_count": null,
   "metadata": {},
   "outputs": [],
   "source": [
    "for i in range(n):\n",
    "    CRIZ_E_master_df.at[i, 'nuclear'] = CRIZ_E_DFS[6].iloc[i].array"
   ]
  },
  {
   "cell_type": "code",
   "execution_count": null,
   "metadata": {},
   "outputs": [],
   "source": [
    "for i in range(n):\n",
    "    CRIZ_E_master_df.at[i, 'red'] = CRIZ_E_DFS[7].iloc[i].array"
   ]
  },
  {
   "cell_type": "markdown",
   "metadata": {},
   "source": [
    "# Criz Aggregation"
   ]
  },
  {
   "cell_type": "code",
   "execution_count": null,
   "metadata": {},
   "outputs": [],
   "source": [
    "CRIZ_master_df = pd.DataFrame(columns=[\"x_pos\", \"y_pos\", \"condensation_frame\", \"division_frame\", \"death_frame\", \"green\", \"red\", \"nuclear\"])\n",
    "n = 0"
   ]
  },
  {
   "cell_type": "code",
   "execution_count": null,
   "metadata": {},
   "outputs": [],
   "source": [
    "for row in CRIZ_DFS[0].iterrows():\n",
    "    CRIZ_master_df = CRIZ_master_df.append({\"x_pos\": row[1].array}, ignore_index=True)\n",
    "    n += 1"
   ]
  },
  {
   "cell_type": "code",
   "execution_count": null,
   "metadata": {},
   "outputs": [],
   "source": [
    "for i in range(n):\n",
    "    CRIZ_master_df.at[i, 'y_pos'] = CRIZ_DFS[1].iloc[i].array"
   ]
  },
  {
   "cell_type": "code",
   "execution_count": null,
   "metadata": {},
   "outputs": [],
   "source": [
    "for i in range(n):\n",
    "    CRIZ_master_df.at[i, 'condensation_frame'] = CRIZ_DFS[2].iloc[i][CRIZ_DFS[2].iloc[i] == 1].index.array[0] if len(CRIZ_DFS[2].iloc[i][CRIZ_DFS[2].iloc[i] == 1].index.array) == 1 else np.nan"
   ]
  },
  {
   "cell_type": "code",
   "execution_count": null,
   "metadata": {},
   "outputs": [],
   "source": [
    "for i in range(n):\n",
    "    CRIZ_master_df.at[i, 'death_frame'] = CRIZ_DFS[3].iloc[i][CRIZ_DFS[3].iloc[i] == 1].index.array[0] if len(CRIZ_DFS[3].iloc[i][CRIZ_DFS[3].iloc[i] == 1].index.array) == 1 else np.nan"
   ]
  },
  {
   "cell_type": "code",
   "execution_count": null,
   "metadata": {},
   "outputs": [],
   "source": [
    "for i in range(n):\n",
    "    CRIZ_master_df.at[i, 'division_frame'] = CRIZ_DFS[4].iloc[i][CRIZ_DFS[4].iloc[i] == 1].index.array[0] if len(CRIZ_DFS[4].iloc[i][CRIZ_DFS[4].iloc[i] == 1].index.array) == 1 else np.nan"
   ]
  },
  {
   "cell_type": "code",
   "execution_count": null,
   "metadata": {},
   "outputs": [],
   "source": [
    "for i in range(n):\n",
    "    CRIZ_master_df.at[i, 'green'] = CRIZ_DFS[5].iloc[i].array"
   ]
  },
  {
   "cell_type": "code",
   "execution_count": null,
   "metadata": {},
   "outputs": [],
   "source": [
    "for i in range(n):\n",
    "    CRIZ_master_df.at[i, 'nuclear'] = CRIZ_DFS[6].iloc[i].array"
   ]
  },
  {
   "cell_type": "code",
   "execution_count": null,
   "metadata": {},
   "outputs": [],
   "source": [
    "for i in range(n):\n",
    "    CRIZ_master_df.at[i, 'red'] = CRIZ_DFS[7].iloc[i].array"
   ]
  },
  {
   "cell_type": "markdown",
   "metadata": {},
   "source": [
    "# Analyzing Cell Events"
   ]
  },
  {
   "cell_type": "markdown",
   "metadata": {},
   "source": [
    "## Failed Cell Division"
   ]
  },
  {
   "cell_type": "code",
   "execution_count": null,
   "metadata": {},
   "outputs": [],
   "source": [
    "DMSO_failed = DMSO_master_df[DMSO_master_df['condensation_frame'].notna() & DMSO_master_df['division_frame'].isna()]\n",
    "CRIZ_E_failed = CRIZ_E_master_df[CRIZ_E_master_df['condensation_frame'].notna() & CRIZ_E_master_df['division_frame'].isna()]\n",
    "CRIZ_failed = CRIZ_master_df[CRIZ_master_df['condensation_frame'].notna() & CRIZ_master_df['division_frame'].isna()]\n",
    "\n",
    "DMSO_tot = DMSO_master_df[DMSO_master_df['condensation_frame'].notna()]\n",
    "CRIZ_E_tot = CRIZ_E_master_df[CRIZ_E_master_df['condensation_frame'].notna()]\n",
    "CRIZ_tot = CRIZ_master_df[CRIZ_master_df['condensation_frame'].notna()]"
   ]
  },
  {
   "cell_type": "code",
   "execution_count": null,
   "metadata": {},
   "outputs": [],
   "source": [
    "fig, ax = plt.subplots()\n",
    "fig.dpi = 200\n",
    "ax.bar(np.arange(3), 100*np.divide([len(DMSO_failed) ,len(CRIZ_E_failed),len(CRIZ_failed)], [len(DMSO_tot) ,len(CRIZ_E_tot),len(CRIZ_tot)]), align='center', alpha=0.5)\n",
    "ax.set_ylabel('Failed Division (%)')\n",
    "ax.set_xticks(np.arange(3))\n",
    "ax.set_xticklabels(['DMSO','CRIZ + EGF', 'CRIZ'])\n",
    "ax.yaxis.grid(True)\n",
    "plt.show()"
   ]
  },
  {
   "cell_type": "markdown",
   "metadata": {},
   "source": [
    "## Division and Death in Next 5 Frames"
   ]
  },
  {
   "cell_type": "code",
   "execution_count": null,
   "metadata": {},
   "outputs": [],
   "source": [
    "DMSO_data = {\n",
    "    'div' : DMSO_master_df[DMSO_master_df['division_frame'].notna() & DMSO_master_df['death_frame'].notna()].division_frame,\n",
    "    'death' : DMSO_master_df[DMSO_master_df['division_frame'].notna() & DMSO_master_df['death_frame']].death_frame\n",
    "}\n",
    "DMSO_dividing = pd.DataFrame(DMSO_data)\n",
    "DMSO_dividing = DMSO_dividing.drop_duplicates()\n",
    "DMSO_dividing['death_frames'] = DMSO_dividing['death'] - DMSO_dividing['div']\n",
    "DMSO_dcount = len(DMSO_dividing[DMSO_dividing['death_frames'] <= 5])"
   ]
  },
  {
   "cell_type": "code",
   "execution_count": null,
   "metadata": {},
   "outputs": [],
   "source": [
    "CRIZ_data = {\n",
    "    'div' : CRIZ_master_df[CRIZ_master_df['division_frame'].notna() & CRIZ_master_df['death_frame'].notna()].division_frame,\n",
    "    'death' : CRIZ_master_df[CRIZ_master_df['division_frame'].notna() & CRIZ_master_df['death_frame']].death_frame\n",
    "}\n",
    "CRIZ_dividing = pd.DataFrame(CRIZ_data)\n",
    "CRIZ_dividing = CRIZ_dividing.drop_duplicates()\n",
    "CRIZ_dividing['death_frames'] = CRIZ_dividing['death'] - CRIZ_dividing['div']\n",
    "CRIZ_dcount = len(CRIZ_dividing[CRIZ_dividing['death_frames'] <= 5])"
   ]
  },
  {
   "cell_type": "code",
   "execution_count": null,
   "metadata": {},
   "outputs": [],
   "source": [
    "CRIZ_E_data = {\n",
    "    'div' : CRIZ_E_master_df[CRIZ_E_master_df['division_frame'].notna() & CRIZ_E_master_df['death_frame'].notna()].division_frame,\n",
    "    'death' : CRIZ_E_master_df[CRIZ_E_master_df['division_frame'].notna() & CRIZ_E_master_df['death_frame']].death_frame\n",
    "}\n",
    "CRIZ_E_dividing = pd.DataFrame(CRIZ_E_data)\n",
    "CRIZ_E_dividing = CRIZ_E_dividing.drop_duplicates()\n",
    "CRIZ_E_dividing['death_frames'] = CRIZ_E_dividing['death'] - CRIZ_E_dividing['div']\n",
    "CRIZ_E_dcount = len(CRIZ_E_dividing[CRIZ_E_dividing['death_frames'] <= 5])"
   ]
  },
  {
   "cell_type": "code",
   "execution_count": null,
   "metadata": {},
   "outputs": [],
   "source": [
    "fig, ax = plt.subplots()\n",
    "fig.dpi = 200\n",
    "ax.bar(np.arange(3), [DMSO_dcount,CRIZ_E_dcount,CRIZ_dcount], align='center', alpha=0.5)\n",
    "ax.set_ylabel('Divisions with Death in Next Five Frames')\n",
    "ax.set_xticks(np.arange(3))\n",
    "ax.set_xticklabels(['DMSO','CRIZ + EGF', 'CRIZ'])\n",
    "ax.yaxis.grid(True)\n",
    "plt.show()"
   ]
  },
  {
   "cell_type": "markdown",
   "metadata": {},
   "source": [
    "## Division Times"
   ]
  },
  {
   "cell_type": "code",
   "execution_count": null,
   "metadata": {},
   "outputs": [],
   "source": [
    "DMSO_data = {\n",
    "    'div' : DMSO_master_df[DMSO_master_df['division_frame'].notna() & DMSO_master_df['condensation_frame'].notna()].division_frame,\n",
    "    'condense' : DMSO_master_df[DMSO_master_df['division_frame'].notna() & DMSO_master_df['condensation_frame']].condensation_frame\n",
    "}\n",
    "DMSO_dividing = pd.DataFrame(DMSO_data)\n",
    "DMSO_dividing = DMSO_dividing.drop_duplicates()\n",
    "DMSO_dividing['div_time'] = DMSO_dividing['div'] - DMSO_dividing['condense']"
   ]
  },
  {
   "cell_type": "code",
   "execution_count": null,
   "metadata": {},
   "outputs": [],
   "source": [
    "CRIZ_E_data = {\n",
    "    'div' : CRIZ_E_master_df[CRIZ_E_master_df['division_frame'].notna() & CRIZ_E_master_df['condensation_frame'].notna()].division_frame,\n",
    "    'condense' : CRIZ_E_master_df[CRIZ_E_master_df['division_frame'].notna() & CRIZ_E_master_df['condensation_frame']].condensation_frame\n",
    "}\n",
    "CRIZ_E_dividing = pd.DataFrame(CRIZ_E_data)\n",
    "CRIZ_E_dividing = CRIZ_E_dividing.drop_duplicates()\n",
    "CRIZ_E_dividing['div_time'] = CRIZ_E_dividing['div'] - CRIZ_E_dividing['condense']"
   ]
  },
  {
   "cell_type": "code",
   "execution_count": null,
   "metadata": {},
   "outputs": [],
   "source": [
    "CRIZ_data = {\n",
    "    'div' : CRIZ_master_df[CRIZ_master_df['division_frame'].notna() & CRIZ_master_df['condensation_frame'].notna()].division_frame,\n",
    "    'condense' : CRIZ_master_df[CRIZ_master_df['division_frame'].notna() & CRIZ_master_df['condensation_frame']].condensation_frame\n",
    "}\n",
    "CRIZ_dividing = pd.DataFrame(CRIZ_data)\n",
    "CRIZ_dividing = CRIZ_dividing.drop_duplicates()\n",
    "CRIZ_dividing['div_time'] = CRIZ_dividing['div'] - CRIZ_dividing['condense']"
   ]
  },
  {
   "cell_type": "code",
   "execution_count": null,
   "metadata": {},
   "outputs": [],
   "source": [
    "data = [list(DMSO_dividing['div_time'].values), list(CRIZ_E_dividing['div_time'].values), list(CRIZ_dividing['div_time'].values)]\n",
    "fig = plt.figure(dpi=200)\n",
    "ax = fig.add_axes([0, 0, 1, 1])\n",
    "bp = ax.violinplot(data, showmedians=True)\n",
    "ax.set_xticklabels(['','DMSO', '', 'CRIZ + EGF', '', 'CRIZ'])\n",
    "ax.set_ylabel('Time of Division (# Frames)')\n",
    "plt.show()"
   ]
  },
  {
   "cell_type": "markdown",
   "metadata": {},
   "source": [
    "# Red, Green, Ratio"
   ]
  },
  {
   "cell_type": "code",
   "execution_count": null,
   "metadata": {},
   "outputs": [],
   "source": [
    "fig = plt.figure(figsize=(30,100))\n",
    "for i, (name, row) in enumerate(DMSO_master_df.iterrows()):\n",
    "    ax = plt.subplot(35,3, i+1)\n",
    "    ax.set_yscale('log')\n",
    "    ax.plot(row.green, color='green', label = \"green\")\n",
    "    ax.plot(row.red, color='red', label = \"red\")\n",
    "    ax.plot(row.green / row.red, color='cyan', label='ratio')\n",
    "    ax.legend()\n",
    "fig.suptitle('DMSO')\n",
    "plt.show()"
   ]
  },
  {
   "cell_type": "code",
   "execution_count": null,
   "metadata": {},
   "outputs": [],
   "source": [
    "fig = plt.figure(figsize=(30,100))\n",
    "for i, (name, row) in enumerate(CRIZ_master_df.iterrows()):\n",
    "    ax = plt.subplot(35,3, i+1)\n",
    "    ax.set_yscale('log')\n",
    "    ax.plot(row.green, color='green', label = \"green\")\n",
    "    ax.plot(row.red, color='red', label = \"red\")\n",
    "    ax.plot(row.green / row.red, color='cyan', label='ratio')\n",
    "    ax.legend()\n",
    "fig.suptitle('CRIZ')\n",
    "plt.show()"
   ]
  },
  {
   "cell_type": "code",
   "execution_count": null,
   "metadata": {},
   "outputs": [],
   "source": [
    "fig = plt.figure(figsize=(30,100))\n",
    "for i, (name, row) in enumerate(CRIZ_E_master_df.iterrows()):\n",
    "    ax = plt.subplot(35,3, i+1)\n",
    "    ax.set_yscale('log')\n",
    "    ax.plot(row.green, color='green', label = \"green\")\n",
    "    ax.plot(row.red, color='red', label = \"red\")\n",
    "    ax.plot(row.green / row.red, color='cyan', label='ratio')\n",
    "    ax.legend()\n",
    "fig.suptitle('CRIZ_E')\n",
    "plt.show()"
   ]
  }
 ],
 "metadata": {
  "kernelspec": {
   "display_name": "Python 3.10.4 ('data')",
   "language": "python",
   "name": "python3"
  },
  "language_info": {
   "codemirror_mode": {
    "name": "ipython",
    "version": 3
   },
   "file_extension": ".py",
   "mimetype": "text/x-python",
   "name": "python",
   "nbconvert_exporter": "python",
   "pygments_lexer": "ipython3",
   "version": "3.10.4"
  },
  "orig_nbformat": 4,
  "vscode": {
   "interpreter": {
    "hash": "fe85ecbbd609210c6517201d27a7cd38a6e06fba7eff114e8140ccd364baccf5"
   }
  }
 },
 "nbformat": 4,
 "nbformat_minor": 2
}
